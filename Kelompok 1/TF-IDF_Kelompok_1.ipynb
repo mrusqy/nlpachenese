{
 "cells": [
  {
   "cell_type": "markdown",
   "id": "8e80f50e-4cde-4fb0-8414-03f24f48e2b8",
   "metadata": {},
   "source": [
    "## merge file corpus kelompok 1"
   ]
  },
  {
   "cell_type": "markdown",
   "id": "a99db278-d89e-43e8-8f65-90626c62d587",
   "metadata": {},
   "source": [
    "1. Jumlah corpus_Ruski_file_0.txt: 265\n",
    "2. Jumlah corpus_Doni_file_1.txt: 200\n",
    "3. Jumlah corpus_Habib_file_2.txt: 200\n",
    "4. Jumlah corpus_Iskandar_file_4.txt: 208\n",
    "5. Jumlah corpus_muttaqin_file.txt: 201\n",
    "6. Jumlah corpus_Saryulis_file_5.txt: 200\n",
    "\n",
    "**total merged_corpus_kelompok_1.txt: 1274**"
   ]
  },
  {
   "cell_type": "code",
   "execution_count": 12,
   "id": "fbcc9ae2-900d-4d8a-bf05-9a00b6b46862",
   "metadata": {},
   "outputs": [
    {
     "name": "stdout",
     "output_type": "stream",
     "text": [
      "Semua file .txt telah digabungkan menjadi D:\\KULIAH\\Lingkom\\corpus\\RUSKI\\CODE PREPROSES\\Kelompok 1\\Kerja TF-IDF\\content\\merged_corpus_kelompok_1.txt\n"
     ]
    }
   ],
   "source": [
    "import os\n",
    "\n",
    "# membuat list nama file .txt dalam direktori \n",
    "def list_txt_files(directory):\n",
    "    txt_files = []\n",
    "    for file in os.listdir(directory):\n",
    "        if file.endswith(\".txt\"):\n",
    "            txt_files.append(file)\n",
    "    return txt_files\n",
    "\n",
    "# menggabungkan semua file .txt dalam direktori menjadi satu file\n",
    "def merge_txt_files(directory, output_file):\n",
    "    txt_files = list_txt_files(directory)\n",
    "\n",
    "    with open(output_file, 'w') as outfile:\n",
    "        for file in txt_files:\n",
    "            with open(os.path.join(directory, file), 'r') as infile:\n",
    "                outfile.write(infile.read())\n",
    "\n",
    "# Menentukan direktori kerja dan folder output\n",
    "directory = os.getcwd()  # path direktori saat ini\n",
    "output_directory = os.path.join(directory, 'content')\n",
    "\n",
    "# Membuat folder jika belum ada\n",
    "os.makedirs(output_directory, exist_ok=True)\n",
    "\n",
    "# Menentukan nama file output\n",
    "output_file = os.path.join(output_directory, \"merged_corpus_kelompok_1.txt\")\n",
    "\n",
    "# Menggabungkan file\n",
    "merge_txt_files(directory, output_file)\n",
    "\n",
    "print(f\"Semua file .txt telah digabungkan menjadi {output_file}\")\n"
   ]
  },
  {
   "cell_type": "markdown",
   "id": "d7679db2-4766-4c9a-96f3-0392093c9cd1",
   "metadata": {},
   "source": [
    "-------------------------------------------"
   ]
  },
  {
   "cell_type": "markdown",
   "id": "62483e1b-32ad-41b6-ad6e-b24542458507",
   "metadata": {},
   "source": [
    "## Word Embedding\n",
    "membuat word embedding menggunakan TF-IDF dari corpus bahasa Aceh"
   ]
  },
  {
   "cell_type": "markdown",
   "id": "83a01b27-0fdb-4eec-a99a-c422cf0873e3",
   "metadata": {},
   "source": [
    "### 1. Membaca File TXT"
   ]
  },
  {
   "cell_type": "code",
   "execution_count": 15,
   "id": "0bdcd6b3-39e8-41b6-896d-98135f1c83db",
   "metadata": {},
   "outputs": [],
   "source": [
    "import pandas as pd\n",
    "\n",
    "# Ganti 'path_to_file.txt' dengan path ke file Anda\n",
    "with open('content/merged_corpus_kelompok_1.txt', 'r', encoding='utf-8') as file:\n",
    "    corpus = file.readlines()\n"
   ]
  },
  {
   "cell_type": "markdown",
   "id": "dba967b6-7743-4628-a2b3-64aca460ba09",
   "metadata": {},
   "source": [
    "### 2. Pra-pemrosesan Teks"
   ]
  },
  {
   "cell_type": "code",
   "execution_count": 16,
   "id": "59f04d3e-61e1-4349-a934-599aafcfb935",
   "metadata": {},
   "outputs": [
    {
     "name": "stderr",
     "output_type": "stream",
     "text": [
      "[nltk_data] Downloading package stopwords to\n",
      "[nltk_data]     C:\\Users\\User\\AppData\\Roaming\\nltk_data...\n",
      "[nltk_data]   Unzipping corpora\\stopwords.zip.\n"
     ]
    }
   ],
   "source": [
    "import nltk\n",
    "from nltk.corpus import stopwords\n",
    "import string\n",
    "\n",
    "# Unduh stop words jika belum\n",
    "nltk.download('stopwords')\n",
    "stop_words = set(stopwords.words('indonesian'))  # Ganti dengan 'indonesian' jika perlu\n",
    "\n",
    "def preprocess(text):\n",
    "    # Ubah menjadi huruf kecil\n",
    "    text = text.lower()\n",
    "    # Hapus tanda baca\n",
    "    text = text.translate(str.maketrans('', '', string.punctuation))\n",
    "    # Hapus stop words\n",
    "    text = ' '.join([word for word in text.split() if word not in stop_words])\n",
    "    return text\n",
    "\n",
    "processed_corpus = [preprocess(text) for text in corpus]\n"
   ]
  },
  {
   "cell_type": "markdown",
   "id": "202a805c-5797-46c9-9c94-d4142ee7867f",
   "metadata": {},
   "source": [
    "### 3. Tokenisasi"
   ]
  },
  {
   "cell_type": "code",
   "execution_count": 18,
   "id": "2e1b6092-03ed-4db8-a252-35e3833a3c29",
   "metadata": {},
   "outputs": [
    {
     "name": "stderr",
     "output_type": "stream",
     "text": [
      "[nltk_data] Downloading package punkt to\n",
      "[nltk_data]     C:\\Users\\User\\AppData\\Roaming\\nltk_data...\n",
      "[nltk_data]   Package punkt is already up-to-date!\n"
     ]
    }
   ],
   "source": [
    "from nltk.tokenize import word_tokenize\n",
    "nltk.download('punkt')\n",
    "\n",
    "tokenized_corpus = [word_tokenize(text) for text in processed_corpus]\n"
   ]
  },
  {
   "cell_type": "markdown",
   "id": "8f8ab36b-b745-4b03-a7ea-962ca7bc0236",
   "metadata": {},
   "source": [
    "### 4. Menghitung TF-IDF"
   ]
  },
  {
   "cell_type": "code",
   "execution_count": 24,
   "id": "d0b21cd5-4056-49b3-b92c-83408bb8fdb9",
   "metadata": {},
   "outputs": [],
   "source": [
    "from sklearn.feature_extraction.text import TfidfVectorizer\n",
    "\n",
    "# Ubah token kembali ke format string\n",
    "tokenized_corpus_str = [' '.join(tokens) for tokens in tokenized_corpus]\n",
    "\n",
    "vectorizer = TfidfVectorizer()\n",
    "tfidf_matrix = vectorizer.fit_transform(tokenized_corpus_str)\n"
   ]
  },
  {
   "cell_type": "markdown",
   "id": "61dd63c7-a2af-4d38-b606-1791e3184fba",
   "metadata": {},
   "source": [
    "### 5. Membuat DataFrame"
   ]
  },
  {
   "cell_type": "code",
   "execution_count": 27,
   "id": "cd39a361-b10c-46a1-8678-6194467a858a",
   "metadata": {},
   "outputs": [],
   "source": [
    "tfidf_df = pd.DataFrame(tfidf_matrix.toarray(), columns=vectorizer.get_feature_names_out())\n"
   ]
  },
  {
   "cell_type": "markdown",
   "id": "d0b1f356-1b81-4a4f-acff-371d7e59898f",
   "metadata": {},
   "source": [
    "### 6. Analisis dan Penyimpanan"
   ]
  },
  {
   "cell_type": "code",
   "execution_count": 28,
   "id": "e25137e3-e1f8-4a3d-9495-ec1f9700397a",
   "metadata": {},
   "outputs": [],
   "source": [
    "tfidf_df.to_csv('tfidf_output.csv', index=False)\n"
   ]
  }
 ],
 "metadata": {
  "kernelspec": {
   "display_name": "Python 3 (ipykernel)",
   "language": "python",
   "name": "python3"
  },
  "language_info": {
   "codemirror_mode": {
    "name": "ipython",
    "version": 3
   },
   "file_extension": ".py",
   "mimetype": "text/x-python",
   "name": "python",
   "nbconvert_exporter": "python",
   "pygments_lexer": "ipython3",
   "version": "3.12.5"
  }
 },
 "nbformat": 4,
 "nbformat_minor": 5
}
