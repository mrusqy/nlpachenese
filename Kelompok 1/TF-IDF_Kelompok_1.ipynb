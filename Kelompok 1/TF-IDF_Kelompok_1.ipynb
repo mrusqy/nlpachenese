{
 "cells": [
  {
   "cell_type": "markdown",
   "id": "8e80f50e-4cde-4fb0-8414-03f24f48e2b8",
   "metadata": {},
   "source": [
    "## merge file corpus kelompok 1"
   ]
  },
  {
   "cell_type": "markdown",
   "id": "a99db278-d89e-43e8-8f65-90626c62d587",
   "metadata": {},
   "source": [
    "1. Jumlah corpus_Ruski_file_0.txt: 265\n",
    "2. Jumlah corpus_Doni_file_1.txt: 200\n",
    "3. Jumlah corpus_Habib_file_2.txt: 200\n",
    "4. Jumlah corpus_Iskandar_file_4.txt: 208\n",
    "5. Jumlah corpus_muttaqin_file.txt: 201\n",
    "6. Jumlah corpus_Saryulis_file_5.txt: 200\n",
    "\n",
    "**total merged_corpus_kelompok_1.txt: 1274**"
   ]
  },
  {
   "cell_type": "code",
   "execution_count": 12,
   "id": "fbcc9ae2-900d-4d8a-bf05-9a00b6b46862",
   "metadata": {},
   "outputs": [
    {
     "name": "stdout",
     "output_type": "stream",
     "text": [
      "Semua file .txt telah digabungkan menjadi D:\\KULIAH\\Lingkom\\corpus\\RUSKI\\CODE PREPROSES\\Kelompok 1\\Kerja TF-IDF\\content\\merged_corpus_kelompok_1.txt\n"
     ]
    }
   ],
   "source": [
    "import os\n",
    "\n",
    "# membuat list nama file .txt dalam direktori \n",
    "def list_txt_files(directory):\n",
    "    txt_files = []\n",
    "    for file in os.listdir(directory):\n",
    "        if file.endswith(\".txt\"):\n",
    "            txt_files.append(file)\n",
    "    return txt_files\n",
    "\n",
    "# menggabungkan semua file .txt dalam direktori menjadi satu file\n",
    "def merge_txt_files(directory, output_file):\n",
    "    txt_files = list_txt_files(directory)\n",
    "\n",
    "    with open(output_file, 'w') as outfile:\n",
    "        for file in txt_files:\n",
    "            with open(os.path.join(directory, file), 'r') as infile:\n",
    "                outfile.write(infile.read())\n",
    "\n",
    "# Menentukan direktori kerja dan folder output\n",
    "directory = os.getcwd()  # path direktori saat ini\n",
    "output_directory = os.path.join(directory, 'content')\n",
    "\n",
    "# Membuat folder jika belum ada\n",
    "os.makedirs(output_directory, exist_ok=True)\n",
    "\n",
    "# Menentukan nama file output\n",
    "output_file = os.path.join(output_directory, \"merged_corpus_kelompok_1.txt\")\n",
    "\n",
    "# Menggabungkan file\n",
    "merge_txt_files(directory, output_file)\n",
    "\n",
    "print(f\"Semua file .txt telah digabungkan menjadi {output_file}\")\n"
   ]
  },
  {
   "cell_type": "markdown",
   "id": "d7679db2-4766-4c9a-96f3-0392093c9cd1",
   "metadata": {},
   "source": [
    "-------------------------------------------"
   ]
  },
  {
   "cell_type": "markdown",
   "id": "62483e1b-32ad-41b6-ad6e-b24542458507",
   "metadata": {},
   "source": [
    "## Word Embedding\n",
    "membuat word embedding menggunakan TF-IDF dari corpus bahasa Aceh"
   ]
  },
  {
   "cell_type": "markdown",
   "id": "83a01b27-0fdb-4eec-a99a-c422cf0873e3",
   "metadata": {},
   "source": [
    "### 1. Membaca File TXT"
   ]
  },
  {
   "cell_type": "code",
   "execution_count": 2,
   "id": "0bdcd6b3-39e8-41b6-896d-98135f1c83db",
   "metadata": {},
   "outputs": [],
   "source": [
    "import pandas as pd\n",
    "\n",
    "# Ganti 'path_to_file.txt' dengan path ke file Anda\n",
    "with open('merged_corpus_kelompok_1.txt', 'r', encoding='utf-8') as file:\n",
    "    corpus = file.readlines()\n"
   ]
  },
  {
   "cell_type": "markdown",
   "id": "dba967b6-7743-4628-a2b3-64aca460ba09",
   "metadata": {},
   "source": [
    "### 2. Pra-pemrosesan Teks"
   ]
  },
  {
   "cell_type": "code",
   "execution_count": 3,
   "id": "59f04d3e-61e1-4349-a934-599aafcfb935",
   "metadata": {},
   "outputs": [
    {
     "name": "stderr",
     "output_type": "stream",
     "text": [
      "[nltk_data] Downloading package stopwords to\n",
      "[nltk_data]     C:\\Users\\LEGION\\AppData\\Roaming\\nltk_data...\n",
      "[nltk_data]   Package stopwords is already up-to-date!\n"
     ]
    }
   ],
   "source": [
    "import nltk\n",
    "from nltk.corpus import stopwords\n",
    "import string\n",
    "\n",
    "# Unduh stop words jika belum\n",
    "nltk.download('stopwords')\n",
    "stop_words = set(stopwords.words('indonesian'))  # Ganti dengan 'indonesian' jika perlu\n",
    "\n",
    "def preprocess(text):\n",
    "    # Ubah menjadi huruf kecil\n",
    "    text = text.lower()\n",
    "    # Hapus tanda baca\n",
    "    text = text.translate(str.maketrans('', '', string.punctuation))\n",
    "    # Hapus stop words\n",
    "    text = ' '.join([word for word in text.split() if word not in stop_words])\n",
    "    return text\n",
    "\n",
    "processed_corpus = [preprocess(text) for text in corpus]\n"
   ]
  },
  {
   "cell_type": "code",
   "execution_count": 9,
   "id": "f03737d5-7d60-4d82-b3fd-6216b14b0647",
   "metadata": {},
   "outputs": [
    {
     "name": "stdout",
     "output_type": "stream",
     "text": [
      "['lon kuneuk jak u pasai euntreuk supot', 'peu kalheuh kapajoh bu malam', 'awak nyan teungoh jimeureunoe keu ujian minggu nyoe', 'singoh beungoh geutanyoe beurangkat u bandung', 'mak teungoh geutaguen bu bak dapu', 'lon hana jeut kujak bak pesta beuklam', 'peu na katupat pat kupeuduek kunci moto lon', 'awak nyan ipreh dikeue rumoh sikula', 'buku kacok baroe peu kalheuh kapulang', 'geutanyoe peureulee tapeuseuleusoe tugaih nyoe sigohlom singoh']\n"
     ]
    }
   ],
   "source": [
    "# menampilkan 10 data kalimat yang telah di pre-processing penghilangan  \n",
    "# kata-kata umum seperti (\"dan\", \"di\", \"ke\") dan tanda baca.\n",
    "print(processed_corpus[:10])"
   ]
  },
  {
   "cell_type": "markdown",
   "id": "202a805c-5797-46c9-9c94-d4142ee7867f",
   "metadata": {},
   "source": [
    "### 3. Tokenisasi"
   ]
  },
  {
   "cell_type": "code",
   "execution_count": 10,
   "id": "2e1b6092-03ed-4db8-a252-35e3833a3c29",
   "metadata": {},
   "outputs": [
    {
     "name": "stderr",
     "output_type": "stream",
     "text": [
      "[nltk_data] Downloading package punkt to\n",
      "[nltk_data]     C:\\Users\\LEGION\\AppData\\Roaming\\nltk_data...\n",
      "[nltk_data]   Package punkt is already up-to-date!\n"
     ]
    }
   ],
   "source": [
    "from nltk.tokenize import word_tokenize\n",
    "nltk.download('punkt')\n",
    "\n",
    "tokenized_corpus = [word_tokenize(text) for text in processed_corpus]\n"
   ]
  },
  {
   "cell_type": "code",
   "execution_count": 11,
   "id": "d4173834-4e85-4fb3-b59b-99bdcbb2c5b4",
   "metadata": {},
   "outputs": [
    {
     "name": "stdout",
     "output_type": "stream",
     "text": [
      "[['lon', 'kuneuk', 'jak', 'u', 'pasai', 'euntreuk', 'supot'], ['peu', 'kalheuh', 'kapajoh', 'bu', 'malam'], ['awak', 'nyan', 'teungoh', 'jimeureunoe', 'keu', 'ujian', 'minggu', 'nyoe'], ['singoh', 'beungoh', 'geutanyoe', 'beurangkat', 'u', 'bandung'], ['mak', 'teungoh', 'geutaguen', 'bu', 'bak', 'dapu'], ['lon', 'hana', 'jeut', 'kujak', 'bak', 'pesta', 'beuklam'], ['peu', 'na', 'katupat', 'pat', 'kupeuduek', 'kunci', 'moto', 'lon'], ['awak', 'nyan', 'ipreh', 'dikeue', 'rumoh', 'sikula'], ['buku', 'kacok', 'baroe', 'peu', 'kalheuh', 'kapulang'], ['geutanyoe', 'peureulee', 'tapeuseuleusoe', 'tugaih', 'nyoe', 'sigohlom', 'singoh']]\n"
     ]
    }
   ],
   "source": [
    "# menampilkan 10 data yang telah di tokenisasi menjadi per kata\n",
    "print(tokenized_corpus[:10])"
   ]
  },
  {
   "cell_type": "code",
   "execution_count": 14,
   "id": "95f47230-c908-4100-920d-0a85ac64988f",
   "metadata": {},
   "outputs": [
    {
     "name": "stdout",
     "output_type": "stream",
     "text": [
      "['lon', 'kuneuk', 'jak', 'u', 'pasai', 'euntreuk', 'supot', 'peu', 'kalheuh', 'kapajoh']\n"
     ]
    }
   ],
   "source": [
    "# Gabungkan semua token dalam satu list\n",
    "all_tokens = [word for sublist in tokenized_corpus for word in sublist]\n",
    "print(all_tokens[:10])"
   ]
  },
  {
   "cell_type": "markdown",
   "id": "49b492de-65cf-4402-90a8-303b6678f11d",
   "metadata": {},
   "source": [
    "# Menghitung Frekuensi Kata (Word Frequency)"
   ]
  },
  {
   "cell_type": "code",
   "execution_count": 39,
   "id": "3e130aee-3bd3-4f33-9d88-59a1c7b700a5",
   "metadata": {},
   "outputs": [
    {
     "data": {
      "text/plain": [
       "9747"
      ]
     },
     "execution_count": 39,
     "metadata": {},
     "output_type": "execute_result"
    }
   ],
   "source": [
    "len(all_tokens)"
   ]
  },
  {
   "cell_type": "code",
   "execution_count": 35,
   "id": "aad55b36-79f9-480e-898d-1e8c99a42619",
   "metadata": {},
   "outputs": [
    {
     "name": "stdout",
     "output_type": "stream",
     "text": [
      "Frekuensi Kata dari tinggi ke rendah :\n",
      "nyan: 208\n",
      "bak: 203\n",
      "lon: 173\n",
      "nyang: 123\n",
      "ka: 119\n",
      "ngon: 96\n",
      "keu: 95\n",
      "teungoh: 92\n",
      "lam: 85\n",
      "nyoe: 83\n",
      "na: 81\n",
      "hana: 79\n",
      "raja: 77\n",
      "jak: 72\n",
      "keuh: 67\n",
      "kamoe: 63\n",
      "that: 57\n",
      "oh: 57\n",
      "ureueng: 56\n",
      "loon: 54\n"
     ]
    }
   ],
   "source": [
    "from collections import Counter\n",
    "# Menghitung frekuensi kata\n",
    "word_freq = Counter(all_tokens)\n",
    "\n",
    "# Menampilkan hasil frekuensi kata dari nilai tertinggi ke terendah\n",
    "sorted_word_freq = sorted(word_freq.items(), key=lambda x: x[1], reverse=True)\n",
    "\n",
    "print(\"Frekuensi Kata dari tinggi ke rendah :\")\n",
    "for word, freq in sorted_word_freq[:20]:\n",
    "    print(f\"{word}: {freq}\")"
   ]
  },
  {
   "cell_type": "code",
   "execution_count": 32,
   "id": "2351b7aa-a46d-4bf6-a503-684378108006",
   "metadata": {},
   "outputs": [
    {
     "data": {
      "image/png": "[encoded data removed]",
      "text/plain": [
       "<Figure size 1000x600 with 1 Axes>"
      ]
     },
     "metadata": {},
     "output_type": "display_data"
    }
   ],
   "source": [
    "import matplotlib.pyplot as plt\n",
    "# Memisahkan kata dan frekuensi\n",
    "words, frequencies = zip(*sorted_word_freq[:20])\n",
    "\n",
    "# Membuat plot\n",
    "plt.figure(figsize=(10, 6))\n",
    "plt.bar(words, frequencies, color='skyblue')\n",
    "\n",
    "# Menambahkan judul dan label\n",
    "plt.title('Top 20 Kata Frekuensi tertinggi', fontsize=16)\n",
    "plt.xlabel('Kata', fontsize=12)\n",
    "plt.ylabel('Frekuensi', fontsize=12)\n",
    "\n",
    "# Rotasi label sumbu x agar terbaca\n",
    "plt.xticks(rotation=45, ha='right')\n",
    "\n",
    "# Tampilkan plot\n",
    "plt.tight_layout()\n",
    "plt.show()"
   ]
  },
  {
   "cell_type": "markdown",
   "id": "e8e9862d-9d0c-474d-b9ec-03e369c8b5dd",
   "metadata": {},
   "source": [
    "# Menghitung N-grams (Bigram dan Trigram)"
   ]
  },
  {
   "cell_type": "code",
   "execution_count": 43,
   "id": "85728eff-2c5e-4e4f-b1ac-5322c02e5707",
   "metadata": {},
   "outputs": [
    {
     "name": "stdout",
     "output_type": "stream",
     "text": [
      "\n",
      "Bigrams:\n",
      "[('lon', 'kuneuk'), ('kuneuk', 'jak'), ('jak', 'u'), ('u', 'pasai'), ('pasai', 'euntreuk'), ('euntreuk', 'supot')]\n",
      "[('peu', 'kalheuh'), ('kalheuh', 'kapajoh'), ('kapajoh', 'bu'), ('bu', 'malam')]\n",
      "[('awak', 'nyan'), ('nyan', 'teungoh'), ('teungoh', 'jimeureunoe'), ('jimeureunoe', 'keu'), ('keu', 'ujian'), ('ujian', 'minggu'), ('minggu', 'nyoe')]\n",
      "[('singoh', 'beungoh'), ('beungoh', 'geutanyoe'), ('geutanyoe', 'beurangkat'), ('beurangkat', 'u'), ('u', 'bandung')]\n",
      "[('mak', 'teungoh'), ('teungoh', 'geutaguen'), ('geutaguen', 'bu'), ('bu', 'bak'), ('bak', 'dapu')]\n",
      "[('lon', 'hana'), ('hana', 'jeut'), ('jeut', 'kujak'), ('kujak', 'bak'), ('bak', 'pesta'), ('pesta', 'beuklam')]\n",
      "[('peu', 'na'), ('na', 'katupat'), ('katupat', 'pat'), ('pat', 'kupeuduek'), ('kupeuduek', 'kunci'), ('kunci', 'moto'), ('moto', 'lon')]\n",
      "[('awak', 'nyan'), ('nyan', 'ipreh'), ('ipreh', 'dikeue'), ('dikeue', 'rumoh'), ('rumoh', 'sikula')]\n",
      "[('buku', 'kacok'), ('kacok', 'baroe'), ('baroe', 'peu'), ('peu', 'kalheuh'), ('kalheuh', 'kapulang')]\n",
      "[('geutanyoe', 'peureulee'), ('peureulee', 'tapeuseuleusoe'), ('tapeuseuleusoe', 'tugaih'), ('tugaih', 'nyoe'), ('nyoe', 'sigohlom'), ('sigohlom', 'singoh')]\n",
      "\n",
      "Trigrams:\n",
      "[('lon', 'kuneuk', 'jak'), ('kuneuk', 'jak', 'u'), ('jak', 'u', 'pasai'), ('u', 'pasai', 'euntreuk'), ('pasai', 'euntreuk', 'supot')]\n",
      "[('peu', 'kalheuh', 'kapajoh'), ('kalheuh', 'kapajoh', 'bu'), ('kapajoh', 'bu', 'malam')]\n",
      "[('awak', 'nyan', 'teungoh'), ('nyan', 'teungoh', 'jimeureunoe'), ('teungoh', 'jimeureunoe', 'keu'), ('jimeureunoe', 'keu', 'ujian'), ('keu', 'ujian', 'minggu'), ('ujian', 'minggu', 'nyoe')]\n",
      "[('singoh', 'beungoh', 'geutanyoe'), ('beungoh', 'geutanyoe', 'beurangkat'), ('geutanyoe', 'beurangkat', 'u'), ('beurangkat', 'u', 'bandung')]\n",
      "[('mak', 'teungoh', 'geutaguen'), ('teungoh', 'geutaguen', 'bu'), ('geutaguen', 'bu', 'bak'), ('bu', 'bak', 'dapu')]\n",
      "[('lon', 'hana', 'jeut'), ('hana', 'jeut', 'kujak'), ('jeut', 'kujak', 'bak'), ('kujak', 'bak', 'pesta'), ('bak', 'pesta', 'beuklam')]\n",
      "[('peu', 'na', 'katupat'), ('na', 'katupat', 'pat'), ('katupat', 'pat', 'kupeuduek'), ('pat', 'kupeuduek', 'kunci'), ('kupeuduek', 'kunci', 'moto'), ('kunci', 'moto', 'lon')]\n",
      "[('awak', 'nyan', 'ipreh'), ('nyan', 'ipreh', 'dikeue'), ('ipreh', 'dikeue', 'rumoh'), ('dikeue', 'rumoh', 'sikula')]\n",
      "[('buku', 'kacok', 'baroe'), ('kacok', 'baroe', 'peu'), ('baroe', 'peu', 'kalheuh'), ('peu', 'kalheuh', 'kapulang')]\n",
      "[('geutanyoe', 'peureulee', 'tapeuseuleusoe'), ('peureulee', 'tapeuseuleusoe', 'tugaih'), ('tapeuseuleusoe', 'tugaih', 'nyoe'), ('tugaih', 'nyoe', 'sigohlom'), ('nyoe', 'sigohlom', 'singoh')]\n"
     ]
    }
   ],
   "source": [
    "from nltk import ngrams\n",
    "\n",
    "# Fungsi untuk membuat N-grams\n",
    "def generate_ngrams(text, n):\n",
    "    return list(ngrams(text, n))\n",
    "\n",
    "# Menghasilkan Bigrams dan Trigrams untuk setiap kalimat\n",
    "bigrams = [generate_ngrams(tokens, 2) for tokens in tokenized_corpus]\n",
    "trigrams = [generate_ngrams(tokens, 3) for tokens in tokenized_corpus]\n",
    "\n",
    "# Menampilkan Bigrams dan Trigrams\n",
    "print(\"\\nBigrams:\")\n",
    "for bigram_list in bigrams[:10]:\n",
    "    print(bigram_list)\n",
    "\n",
    "print(\"\\nTrigrams:\")\n",
    "for trigram_list in trigrams[:10]:\n",
    "    print(trigram_list)"
   ]
  },
  {
   "cell_type": "markdown",
   "id": "8f8ab36b-b745-4b03-a7ea-962ca7bc0236",
   "metadata": {},
   "source": [
    "### 4. Menghitung TF-IDF"
   ]
  },
  {
   "cell_type": "code",
   "execution_count": 45,
   "id": "d0b21cd5-4056-49b3-b92c-83408bb8fdb9",
   "metadata": {},
   "outputs": [],
   "source": [
    "from sklearn.feature_extraction.text import TfidfVectorizer\n",
    "\n",
    "# Ubah token kembali ke format string\n",
    "tokenized_corpus_str = [' '.join(tokens) for tokens in tokenized_corpus]\n"
   ]
  },
  {
   "cell_type": "code",
   "execution_count": 46,
   "id": "caba60d3-9cdb-49a4-a2e9-992e9f198c70",
   "metadata": {},
   "outputs": [
    {
     "name": "stdout",
     "output_type": "stream",
     "text": [
      "['lon kuneuk jak u pasai euntreuk supot', 'peu kalheuh kapajoh bu malam', 'awak nyan teungoh jimeureunoe keu ujian minggu nyoe', 'singoh beungoh geutanyoe beurangkat u bandung', 'mak teungoh geutaguen bu bak dapu', 'lon hana jeut kujak bak pesta beuklam', 'peu na katupat pat kupeuduek kunci moto lon', 'awak nyan ipreh dikeue rumoh sikula', 'buku kacok baroe peu kalheuh kapulang', 'geutanyoe peureulee tapeuseuleusoe tugaih nyoe sigohlom singoh']\n"
     ]
    }
   ],
   "source": [
    "print(tokenized_corpus_str[:10])"
   ]
  },
  {
   "cell_type": "code",
   "execution_count": 53,
   "id": "080f4bf8-2477-4165-adb0-3c36ab2c0470",
   "metadata": {},
   "outputs": [],
   "source": [
    "vectorizer = TfidfVectorizer()\n",
    "X = vectorizer.fit_transform(tokenized_corpus_str)\n"
   ]
  },
  {
   "cell_type": "code",
   "execution_count": 54,
   "id": "17c079e8-e9d5-4b1b-9493-3c0a823e9810",
   "metadata": {},
   "outputs": [
    {
     "name": "stdout",
     "output_type": "stream",
     "text": [
      "Sparsity:  0.9975811041548094\n"
     ]
    }
   ],
   "source": [
    "print(\"Sparsity: \", 1.0 - (X.nnz / (X.shape[0] * X.shape[1])))"
   ]
  },
  {
   "cell_type": "code",
   "execution_count": 55,
   "id": "d22fbb76-9e4a-43de-a83e-b162605b22dd",
   "metadata": {},
   "outputs": [
    {
     "name": "stdout",
     "output_type": "stream",
     "text": [
      "Fitur TF-IDF:\n",
      "['abang' 'abbas' 'abdullah' ... 'én' 'ôn' 'ônôn']\n"
     ]
    }
   ],
   "source": [
    "# Menampilkan fitur (kata-kata yang direpresentasikan)\n",
    "print(\"Fitur TF-IDF:\")\n",
    "print(vectorizer.get_feature_names_out())"
   ]
  },
  {
   "cell_type": "code",
   "execution_count": 60,
   "id": "0645d644-325e-47b8-b763-44b0047ee9f7",
   "metadata": {},
   "outputs": [
    {
     "name": "stdout",
     "output_type": "stream",
     "text": [
      "\n",
      "Matriks TF-IDF:\n",
      "[[0. 0. 0. ... 0. 0. 0.]\n",
      " [0. 0. 0. ... 0. 0. 0.]\n",
      " [0. 0. 0. ... 0. 0. 0.]\n",
      " ...\n",
      " [0. 0. 0. ... 0. 0. 0.]\n",
      " [0. 0. 0. ... 0. 0. 0.]\n",
      " [0. 0. 0. ... 0. 0. 0.]]\n"
     ]
    }
   ],
   "source": [
    "# Menampilkan matriks TF-IDF untuk setiap dokumen\n",
    "print(\"\\nMatriks TF-IDF:\")\n",
    "print(X.toarray())"
   ]
  },
  {
   "cell_type": "markdown",
   "id": "61dd63c7-a2af-4d38-b606-1791e3184fba",
   "metadata": {},
   "source": [
    "### 5. Membuat DataFrame"
   ]
  },
  {
   "cell_type": "code",
   "execution_count": 61,
   "id": "cd39a361-b10c-46a1-8678-6194467a858a",
   "metadata": {},
   "outputs": [],
   "source": [
    "tfidf_df = pd.DataFrame(X.toarray(), columns=vectorizer.get_feature_names_out())\n"
   ]
  },
  {
   "cell_type": "markdown",
   "id": "d0b1f356-1b81-4a4f-acff-371d7e59898f",
   "metadata": {},
   "source": [
    "### 6. Analisis dan Penyimpanan"
   ]
  },
  {
   "cell_type": "code",
   "execution_count": 62,
   "id": "e25137e3-e1f8-4a3d-9495-ec1f9700397a",
   "metadata": {},
   "outputs": [],
   "source": [
    "tfidf_df.to_csv('tfidf_output.csv', index=False)\n"
   ]
  }
 ],
 "metadata": {
  "kernelspec": {
   "display_name": "Python 3 (ipykernel)",
   "language": "python",
   "name": "python3"
  },
  "language_info": {
   "codemirror_mode": {
    "name": "ipython",
    "version": 3
   },
   "file_extension": ".py",
   "mimetype": "text/x-python",
   "name": "python",
   "nbconvert_exporter": "python",
   "pygments_lexer": "ipython3",
   "version": "3.11.4"
  }
 },
 "nbformat": 4,
 "nbformat_minor": 5
}
