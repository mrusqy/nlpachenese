{
 "cells": [
  {
   "cell_type": "code",
   "execution_count": 1,
   "id": "7d4150b2-dcce-476c-800f-e478914ec895",
   "metadata": {},
   "outputs": [
    {
     "name": "stdout",
     "output_type": "stream",
     "text": [
      "['corpus_Doni_file_1.txt', 'corpus_Habib_file_2.txt', 'corpus_Iskandar_file_4.txt', 'corpus_muttaqin_file.txt', 'corpus_Ruski_file_0.txt', 'corpus_Saryulis_file_5.txt']\n",
      "Jumlah file .txt: 6\n"
     ]
    }
   ],
   "source": [
    "import os\n",
    "\n",
    "# membuat list nama file .txt dalam direktori \n",
    "def list_txt_files(directory):\n",
    "  \n",
    "  txt_files = []\n",
    "  for file in os.listdir(directory):\n",
    "    if file.endswith(\".txt\"):\n",
    "      txt_files.append(file)\n",
    "      \n",
    "  return txt_files\n",
    "\n",
    "# menghitung jumlah file .txt dalam direktori\n",
    "def count_txt_files(directory):\n",
    "  \n",
    "  return len(list_txt_files(directory))\n",
    "\n",
    "directory = os.getcwd()  # path direktori\n",
    "files = list_txt_files(directory)\n",
    "total_files = count_txt_files(directory)\n",
    "\n",
    "print(files)\n",
    "print(\"Jumlah file .txt:\", total_files)"
   ]
  },
  {
   "cell_type": "code",
   "execution_count": 2,
   "id": "85c042cd-92a4-4b3b-8fc6-7557fb8a25ec",
   "metadata": {},
   "outputs": [
    {
     "name": "stdout",
     "output_type": "stream",
     "text": [
      "Semua file .txt telah digabungkan menjadi merged_corpus_kelompok_1.txt\n"
     ]
    }
   ],
   "source": [
    "import os\n",
    "\n",
    "# membuat list nama file .txt dalam direktori \n",
    "def list_txt_files(directory):\n",
    "  \n",
    "    txt_files = []\n",
    "    for file in os.listdir(directory):\n",
    "        if file.endswith(\".txt\"):\n",
    "            txt_files.append(file)\n",
    "\n",
    "    return txt_files\n",
    "\n",
    "# menggabungkan semua file .txt dalam direktori menjadi satu file\n",
    "def merge_txt_files(directory, output_file):\n",
    "    \n",
    "    txt_files = list_txt_files(directory)\n",
    "\n",
    "    with open(output_file, 'w') as outfile:\n",
    "        for file in txt_files:\n",
    "            with open(os.path.join(directory, file), 'r') as infile:\n",
    "                outfile.write(infile.read())\n",
    "\n",
    "directory = os.getcwd()  # path direktori saat ini\n",
    "output_file = \"merged_corpus_kelompok_1.txt\"\n",
    "\n",
    "merge_txt_files(directory, output_file)\n",
    "\n",
    "print(f\"Semua file .txt telah digabungkan menjadi {output_file}\")"
   ]
  }
 ],
 "metadata": {
  "kernelspec": {
   "display_name": "Python 3 (ipykernel)",
   "language": "python",
   "name": "python3"
  },
  "language_info": {
   "codemirror_mode": {
    "name": "ipython",
    "version": 3
   },
   "file_extension": ".py",
   "mimetype": "text/x-python",
   "name": "python",
   "nbconvert_exporter": "python",
   "pygments_lexer": "ipython3",
   "version": "3.12.5"
  }
 },
 "nbformat": 4,
 "nbformat_minor": 5
}
