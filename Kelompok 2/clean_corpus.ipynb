{
 "cells": [
  {
   "cell_type": "code",
   "execution_count": 4,
   "id": "51cabd72-f475-40af-a4c4-6ab70b07b9e7",
   "metadata": {},
   "outputs": [
    {
     "name": "stdout",
     "output_type": "stream",
     "text": [
      "Proses selesai. Hasil perubahan disimpan di 'hasil_perubahan_titik_bersih.txt'.\n"
     ]
    }
   ],
   "source": [
    "import re\n",
    "\n",
    "# Membaca file teks\n",
    "input_file = 'corpus_kelompok_1.txt'\n",
    "output_file = 'clean_corpus_kelompok_1.txt'\n",
    "\n",
    "# Fungsi untuk membersihkan tanda baca yang tidak diinginkan dan menambahkan titik jika belum ada\n",
    "def clean_and_add_period(line):\n",
    "    # Menghilangkan tanda baca yang tidak diinginkan\n",
    "    line = re.sub(r'[,\\?!]', '', line)  # Hilangkan koma, tanda tanya, tanda seru\n",
    "    line = re.sub(r'\\.\\.+', '.', line)  # Hilangkan titik ganda menjadi satu titik\n",
    "    line = line.strip() # Hilangkan spasi di awal/akhir\n",
    "    \n",
    "    # Tambahkan titik di akhir kalimat jika tidak ada\n",
    "    if not line.endswith('.'):\n",
    "        return line + '.'\n",
    "    return line\n",
    "\n",
    "# Baca file, modifikasi, dan tulis kembali ke file baru\n",
    "with open(input_file, 'r', encoding='utf-8') as file:\n",
    "    lines = file.readlines()\n",
    "\n",
    "# Proses setiap baris untuk membersihkan dan menambahkan titik jika belum ada\n",
    "cleaned_lines = [clean_and_add_period(line) for line in lines]\n",
    "\n",
    "# Menyimpan hasil ke file baru\n",
    "with open(output_file, 'w', encoding='utf-8') as file:\n",
    "    file.write('\\n'.join(cleaned_lines))\n",
    "\n",
    "print(\"Proses selesai. Hasil perubahan disimpan di 'hasil_perubahan_titik_bersih.txt'.\")\n"
   ]
  },
  {
   "cell_type": "code",
   "execution_count": null,
   "id": "4310f4fb-a9f9-4a1b-83be-6ed6a317c3e0",
   "metadata": {},
   "outputs": [],
   "source": []
  }
 ],
 "metadata": {
  "kernelspec": {
   "display_name": "Python 3 (ipykernel)",
   "language": "python",
   "name": "python3"
  },
  "language_info": {
   "codemirror_mode": {
    "name": "ipython",
    "version": 3
   },
   "file_extension": ".py",
   "mimetype": "text/x-python",
   "name": "python",
   "nbconvert_exporter": "python",
   "pygments_lexer": "ipython3",
   "version": "3.12.5"
  }
 },
 "nbformat": 4,
 "nbformat_minor": 5
}
