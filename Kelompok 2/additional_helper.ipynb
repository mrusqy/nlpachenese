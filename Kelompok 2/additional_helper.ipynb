{
 "cells": [
  {
   "cell_type": "markdown",
   "metadata": {},
   "source": [
    "## Merge and Clean Corpus File"
   ]
  },
  {
   "cell_type": "code",
   "execution_count": 16,
   "metadata": {},
   "outputs": [
    {
     "name": "stdout",
     "output_type": "stream",
     "text": [
      "Merged and cleaned 5 files into corpus_kelompok_2.txt\n"
     ]
    }
   ],
   "source": [
    "import os, re\n",
    "\n",
    "# Directory containing the text files\n",
    "directory = '../'\n",
    "\n",
    "# Output file\n",
    "output_file = 'corpus_kelompok_2.txt'\n",
    "\n",
    "# List of specific file names to merge\n",
    "file_names = [\n",
    "    'corpus_Nurul_file_6.txt',      # 267 baris \n",
    "    'corpus_Hafizha_file_7.txt',    # 225 baris\n",
    "    'corpus_Aida_file_8.txt',       # 236 baris\n",
    "    'corpus_Maria_file_9.txt',      # 210 baris\n",
    "    'corpus_Fadhilah_file_10.txt'   # 230 baris\n",
    "]\n",
    "\n",
    "# List to store the contents of each file\n",
    "contents = []\n",
    "\n",
    "# Function to clean the content of a file\n",
    "def clean_content(content):\n",
    "    cleaned = content.splitlines()\n",
    "    \n",
    "    # cleaning subject\n",
    "    cleaned = [line.lower() for line in cleaned]    # Ubah teks menjadi lowercase\n",
    "    cleaned = [re.sub(r'[,\\?!]', '', line) for line in cleaned]    # Hilangkang koma, tanda tanya, tanda seru\n",
    "    cleaned = [re.sub(r'\\.\\.+', '.', line) for line in cleaned]    # Hilangkang titik ganda menjadi satu titik\n",
    "    cleaned = [line.strip() for line in cleaned]   # Hilangkang baris kosong dan spasi di awal/akhir baris\n",
    "    cleaned = [line + '.' if not line.endswith('.') else line for line in cleaned] # Tambahkan titik di akhir kalimat jika tidak ada\n",
    "\n",
    "    return '\\n'.join(cleaned)\n",
    "\n",
    "# Iterate over the specified file names\n",
    "for filename in file_names:\n",
    "    file_path = os.path.join(directory, filename)\n",
    "    if os.path.isfile(file_path):\n",
    "        with open(file_path, 'r') as file:\n",
    "            cleaned_content = clean_content(file.read())\n",
    "            contents.append(cleaned_content)\n",
    "\n",
    "# Write the merged contents to the output file\n",
    "with open(output_file, 'w') as file:\n",
    "    file.write('\\n'.join(contents))\n",
    "\n",
    "print(f'Merged and cleaned {len(contents)} files into {output_file}')"
   ]
  },
  {
   "cell_type": "markdown",
   "metadata": {},
   "source": []
  }
 ],
 "metadata": {
  "kernelspec": {
   "display_name": "Python 3",
   "language": "python",
   "name": "python3"
  },
  "language_info": {
   "codemirror_mode": {
    "name": "ipython",
    "version": 3
   },
   "file_extension": ".py",
   "mimetype": "text/x-python",
   "name": "python",
   "nbconvert_exporter": "python",
   "pygments_lexer": "ipython3",
   "version": "3.11.5"
  }
 },
 "nbformat": 4,
 "nbformat_minor": 2
}
